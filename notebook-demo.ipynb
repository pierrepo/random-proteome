{
 "cells": [
  {
   "cell_type": "code",
   "execution_count": 59,
   "metadata": {},
   "outputs": [
    {
     "name": "stdout",
     "output_type": "stream",
     "text": [
      "The autoreload extension is already loaded. To reload it, use:\n",
      "  %reload_ext autoreload\n"
     ]
    }
   ],
   "source": [
    "%load_ext autoreload\n",
    "%autoreload 2\n",
    "\n",
    "import sys\n",
    "\n",
    "from random_proteome import *"
   ]
  },
  {
   "cell_type": "code",
   "execution_count": 60,
   "metadata": {},
   "outputs": [
    {
     "name": "stdout",
     "output_type": "stream",
     "text": [
      "['A', 'C', 'D', 'E', 'F', 'G', 'H', 'I', 'K', 'L', 'M', 'N', 'P', 'Q', 'R', 'S', 'T', 'V', 'W', 'Y']\n"
     ]
    }
   ],
   "source": [
    "AMINO_ACID_LST = list(\"ACDEFGHIKLMNPQRSTVWY\")\n",
    "print(AMINO_ACID_LST)"
   ]
  },
  {
   "cell_type": "code",
   "execution_count": 61,
   "metadata": {},
   "outputs": [],
   "source": [
    "template=\"uniprot-proteome_YEAST_UP000002311.fasta\"\n",
    "PROTEIN_NAME_LST, PROTEIN_SEQ_LST = read_template_proteome(template)"
   ]
  },
  {
   "cell_type": "code",
   "execution_count": 62,
   "metadata": {},
   "outputs": [
    {
     "name": "stdout",
     "output_type": "stream",
     "text": [
      "Read 6049 proteins.\n"
     ]
    }
   ],
   "source": [
    "print(f\"Read {len(PROTEIN_NAME_LST)} proteins.\")"
   ]
  },
  {
   "cell_type": "code",
   "execution_count": 63,
   "metadata": {},
   "outputs": [
    {
     "name": "stdout",
     "output_type": "stream",
     "text": [
      "Found 2936363 amino acids.\n"
     ]
    }
   ],
   "source": [
    "proteome_sequence = ''.join(PROTEIN_SEQ_LST)\n",
    "print(f\"Found {len(proteome_sequence)} amino acids.\")"
   ]
  },
  {
   "cell_type": "code",
   "execution_count": 64,
   "metadata": {},
   "outputs": [
    {
     "data": {
      "text/plain": [
       "{'A': 0.05488592520747605,\n",
       " 'C': 0.012693253524853705,\n",
       " 'D': 0.05836063184286139,\n",
       " 'E': 0.06520821846617737,\n",
       " 'F': 0.04435078360543298,\n",
       " 'G': 0.049673354418374026,\n",
       " 'H': 0.021724153314831986,\n",
       " 'I': 0.06560496777816639,\n",
       " 'K': 0.0733805731784524,\n",
       " 'L': 0.0951128998696687,\n",
       " 'M': 0.020859818762189824,\n",
       " 'N': 0.06157276876190035,\n",
       " 'P': 0.043780690602626446,\n",
       " 'Q': 0.03950397140952941,\n",
       " 'R': 0.04444613966325008,\n",
       " 'S': 0.08987512783671502,\n",
       " 'T': 0.059144254303708364,\n",
       " 'V': 0.05556261266062813,\n",
       " 'W': 0.010401643121099128,\n",
       " 'Y': 0.033858211672058255}"
      ]
     },
     "execution_count": 64,
     "metadata": {},
     "output_type": "execute_result"
    }
   ],
   "source": [
    "amino_acid_distribution = calculate_amino_acid_proportion(proteome_sequence, AMINO_ACID_LST)\n",
    "amino_acid_distribution"
   ]
  },
  {
   "cell_type": "code",
   "execution_count": null,
   "metadata": {},
   "outputs": [],
   "source": []
  },
  {
   "cell_type": "code",
   "execution_count": 65,
   "metadata": {},
   "outputs": [],
   "source": [
    "shuffled_proteome_sequence = shuffle_sequence(proteome_sequence)\n",
    "random_protein_seq_lst = []\n",
    "for original_prot_sequence in PROTEIN_SEQ_LST:\n",
    "    random_sequence, shuffled_proteome_sequence = create_random_protein_from_proteome(\n",
    "                                                    shuffled_proteome_sequence,\n",
    "                                                    len(original_prot_sequence))\n",
    "    random_protein_seq_lst.append(random_sequence)"
   ]
  },
  {
   "cell_type": "code",
   "execution_count": 66,
   "metadata": {},
   "outputs": [],
   "source": [
    "width = 60\n",
    "count = 1\n",
    "with open(\"random_proteome.fasta\", \"w\") as fasta_file:\n",
    "    for sequence in random_protein_seq_lst:\n",
    "        size = len(sequence)\n",
    "        fasta_file.write(f\">protein: {count} | size: {size}\\n\")\n",
    "        for i in range(0, len(sequence), width):\n",
    "            fasta_file.write(f\"{sequence[i: i+width]}\\n\")\n",
    "        count += 1"
   ]
  },
  {
   "cell_type": "code",
   "execution_count": null,
   "metadata": {},
   "outputs": [],
   "source": []
  },
  {
   "cell_type": "code",
   "execution_count": 70,
   "metadata": {},
   "outputs": [],
   "source": [
    "random_protein_seq_lst = []\n",
    "for original_prot_sequence in PROTEIN_SEQ_LST:\n",
    "    random_sequence = create_random_protein_from_distribution(\n",
    "                            len(original_prot_sequence),\n",
    "                            AMINO_ACID_LST,\n",
    "                            amino_acid_distribution=amino_acid_distribution.values())\n",
    "    random_protein_seq_lst.append(random_sequence)"
   ]
  },
  {
   "cell_type": "code",
   "execution_count": 71,
   "metadata": {},
   "outputs": [],
   "source": [
    "width = 60\n",
    "count = 1\n",
    "with open(\"random_proteome2.fasta\", \"w\") as fasta_file:\n",
    "    for sequence in random_protein_seq_lst:\n",
    "        size = len(sequence)\n",
    "        fasta_file.write(f\">protein: {count} | size: {size}\\n\")\n",
    "        for i in range(0, len(sequence), width):\n",
    "            fasta_file.write(f\"{sequence[i: i+width]}\\n\")\n",
    "        count += 1"
   ]
  },
  {
   "cell_type": "code",
   "execution_count": null,
   "metadata": {},
   "outputs": [],
   "source": []
  }
 ],
 "metadata": {
  "kernelspec": {
   "display_name": "Python 3",
   "language": "python",
   "name": "python3"
  },
  "language_info": {
   "codemirror_mode": {
    "name": "ipython",
    "version": 3
   },
   "file_extension": ".py",
   "mimetype": "text/x-python",
   "name": "python",
   "nbconvert_exporter": "python",
   "pygments_lexer": "ipython3",
   "version": "3.8.3"
  }
 },
 "nbformat": 4,
 "nbformat_minor": 4
}
