{
 "cells": [
  {
   "cell_type": "code",
   "execution_count": 1,
   "metadata": {},
   "outputs": [],
   "source": [
    "%load_ext autoreload\n",
    "%autoreload 2\n",
    "\n",
    "from random_proteome import *"
   ]
  },
  {
   "cell_type": "code",
   "execution_count": 2,
   "metadata": {},
   "outputs": [
    {
     "name": "stdout",
     "output_type": "stream",
     "text": [
      "['A', 'C', 'D', 'E', 'F', 'G', 'H', 'I', 'K', 'L', 'M', 'N', 'P', 'Q', 'R', 'S', 'T', 'V', 'W', 'Y']\n"
     ]
    }
   ],
   "source": [
    "AMINO_ACID_LST = list(\"ACDEFGHIKLMNPQRSTVWY\")\n",
    "print(AMINO_ACID_LST)"
   ]
  },
  {
   "cell_type": "code",
   "execution_count": 11,
   "metadata": {},
   "outputs": [],
   "source": [
    "template=\"uniprot-proteome_YEAST_UP000002311.fasta\"\n",
    "PROTEIN_NAME_LST, PROTEOME_DCT = read_template_proteome(template)"
   ]
  },
  {
   "cell_type": "code",
   "execution_count": 12,
   "metadata": {},
   "outputs": [
    {
     "name": "stdout",
     "output_type": "stream",
     "text": [
      "Read 6049 proteins.\n"
     ]
    }
   ],
   "source": [
    "print(f\"Read {len(PROTEIN_NAME_LST)} proteins.\")"
   ]
  },
  {
   "cell_type": "code",
   "execution_count": 13,
   "metadata": {},
   "outputs": [
    {
     "name": "stdout",
     "output_type": "stream",
     "text": [
      "{'A': 0, 'C': 0, 'D': 0, 'E': 0, 'F': 0, 'G': 0, 'H': 0, 'I': 0, 'K': 0, 'L': 0, 'M': 0, 'N': 0, 'P': 0, 'Q': 0, 'R': 0, 'S': 0, 'T': 0, 'V': 0, 'W': 0, 'Y': 0}\n"
     ]
    }
   ],
   "source": [
    "amino_acid_proteome_count = dict(zip(AMINO_ACID_LST, [0]*20))\n",
    "print(amino_acid_proteome_count)"
   ]
  },
  {
   "cell_type": "code",
   "execution_count": 14,
   "metadata": {},
   "outputs": [
    {
     "name": "stdout",
     "output_type": "stream",
     "text": [
      "2936363 amino acids in total.\n"
     ]
    }
   ],
   "source": [
    "count = 0\n",
    "for protein_name in PROTEIN_NAME_LST:\n",
    "    amino_acid_protein_count = count_amino_acids(\n",
    "                                    PROTEOME_DCT[protein_name],\n",
    "                                    AMINO_ACID_LST)\n",
    "    count += len(PROTEOME_DCT[protein_name])\n",
    "    amino_acid_proteome_count = add_dictionnaries(\n",
    "                                    amino_acid_proteome_count, \n",
    "                                    amino_acid_protein_count)\n",
    "print(f\"{count} amino acids in total.\")"
   ]
  },
  {
   "cell_type": "code",
   "execution_count": 15,
   "metadata": {},
   "outputs": [
    {
     "data": {
      "text/plain": [
       "{'A': 161165,\n",
       " 'C': 37272,\n",
       " 'D': 171368,\n",
       " 'E': 191475,\n",
       " 'F': 130230,\n",
       " 'G': 145859,\n",
       " 'H': 63790,\n",
       " 'I': 192640,\n",
       " 'K': 215472,\n",
       " 'L': 279286,\n",
       " 'M': 61252,\n",
       " 'N': 180800,\n",
       " 'P': 128556,\n",
       " 'Q': 115998,\n",
       " 'R': 130510,\n",
       " 'S': 263906,\n",
       " 'T': 173669,\n",
       " 'V': 163152,\n",
       " 'W': 30543,\n",
       " 'Y': 99420}"
      ]
     },
     "execution_count": 15,
     "metadata": {},
     "output_type": "execute_result"
    }
   ],
   "source": [
    "amino_acid_proteome_count"
   ]
  },
  {
   "cell_type": "code",
   "execution_count": 16,
   "metadata": {},
   "outputs": [
    {
     "name": "stdout",
     "output_type": "stream",
     "text": [
      "{'A': 0.05488592520747605, 'C': 0.012693253524853705, 'D': 0.05836063184286139, 'E': 0.06520821846617737, 'F': 0.04435078360543298, 'G': 0.049673354418374026, 'H': 0.021724153314831986, 'I': 0.06560496777816639, 'K': 0.0733805731784524, 'L': 0.0951128998696687, 'M': 0.020859818762189824, 'N': 0.06157276876190035, 'P': 0.043780690602626446, 'Q': 0.03950397140952941, 'R': 0.04444613966325008, 'S': 0.08987512783671502, 'T': 0.059144254303708364, 'V': 0.05556261266062813, 'W': 0.010401643121099128, 'Y': 0.033858211672058255}\n"
     ]
    }
   ],
   "source": [
    "AMINO_ACID_PROP = calculate_amino_acid_proportion(amino_acid_proteome_count)\n",
    "print(AMINO_ACID_PROP)"
   ]
  },
  {
   "cell_type": "code",
   "execution_count": 17,
   "metadata": {},
   "outputs": [],
   "source": [
    "new_protein_lst = []\n",
    "for protein_name in PROTEIN_NAME_LST:\n",
    "    size = len(PROTEOME_DCT[protein_name])\n",
    "    seq, amino_acid_proteome_count = create_random_protein(size, \n",
    "                                       AMINO_ACID_LST, \n",
    "                                       amino_acid_proteome_count, \n",
    "                                       amino_acid_bias=AMINO_ACID_PROP.values())\n",
    "    new_protein_lst.append(seq)"
   ]
  },
  {
   "cell_type": "code",
   "execution_count": 18,
   "metadata": {},
   "outputs": [
    {
     "data": {
      "text/plain": [
       "{'A': 0,\n",
       " 'C': 0,\n",
       " 'D': 0,\n",
       " 'E': 0,\n",
       " 'F': 0,\n",
       " 'G': 0,\n",
       " 'H': 0,\n",
       " 'I': 0,\n",
       " 'K': 0,\n",
       " 'L': 0,\n",
       " 'M': 0,\n",
       " 'N': 0,\n",
       " 'P': 0,\n",
       " 'Q': 0,\n",
       " 'R': 0,\n",
       " 'S': 0,\n",
       " 'T': 0,\n",
       " 'V': 0,\n",
       " 'W': 0,\n",
       " 'Y': 0}"
      ]
     },
     "execution_count": 18,
     "metadata": {},
     "output_type": "execute_result"
    }
   ],
   "source": [
    "amino_acid_proteome_count"
   ]
  },
  {
   "cell_type": "code",
   "execution_count": 20,
   "metadata": {},
   "outputs": [],
   "source": [
    "width = 60\n",
    "count = 1\n",
    "with open(\"random_proteome.fasta\", \"w\") as fasta_file:\n",
    "    for sequence in new_protein_lst:\n",
    "        size = len(sequence)\n",
    "        fasta_file.write(f\">prot{count}_{size}\\n\")\n",
    "        for i in range(0, len(sequence), width):\n",
    "            fasta_file.write(f\"{sequence[i: i+width]}\\n\")\n",
    "        count += 1"
   ]
  }
 ],
 "metadata": {
  "kernelspec": {
   "display_name": "Python 3",
   "language": "python",
   "name": "python3"
  },
  "language_info": {
   "codemirror_mode": {
    "name": "ipython",
    "version": 3
   },
   "file_extension": ".py",
   "mimetype": "text/x-python",
   "name": "python",
   "nbconvert_exporter": "python",
   "pygments_lexer": "ipython3",
   "version": "3.8.3"
  }
 },
 "nbformat": 4,
 "nbformat_minor": 4
}
