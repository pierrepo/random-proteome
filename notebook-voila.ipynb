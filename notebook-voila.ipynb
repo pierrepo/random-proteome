{
 "cells": [
  {
   "cell_type": "code",
   "execution_count": 1,
   "metadata": {},
   "outputs": [],
   "source": [
    "import sys\n",
    "\n",
    "import ipywidgets as widgets\n",
    "import matplotlib.pyplot as plt\n",
    "from IPython.core.display import HTML\n",
    "\n",
    "import random_proteome as randp\n",
    "AMINO_ACID_LST = randp.AMINO_ACID_LST"
   ]
  },
  {
   "cell_type": "markdown",
   "metadata": {},
   "source": [
    "# Random proteome creator"
   ]
  },
  {
   "cell_type": "code",
   "execution_count": 2,
   "metadata": {},
   "outputs": [],
   "source": [
    "upload_button = widgets.FileUpload(\n",
    "    button_style=\"info\",\n",
    "    accept='',  # Accepted file extension e.g. '.txt', '.pdf', 'image/*', 'image/*,.pdf'\n",
    "    multiple=False  # True to accept multiple files upload else False\n",
    ")\n",
    "\n",
    "\n",
    "output_log = widgets.Output(layout={'border': '1px solid #e5e8e8', \n",
    "                                    'padding': '3px',\n",
    "                                    'color': '#515a5a'})\n",
    "\n",
    "with output_log:\n",
    "    print(\"Click on the button above to upload fasta file.\")\n",
    "    print(\"Then, click on 'Create random proteome'.\")"
   ]
  },
  {
   "cell_type": "code",
   "execution_count": 3,
   "metadata": {},
   "outputs": [],
   "source": [
    "template=\"template-proteome.fasta\"\n",
    "@output_log.capture(clear_output=True)\n",
    "def on_file_upload(change):\n",
    "    with output_log:\n",
    "        if upload_button.value:\n",
    "            [uploaded_file] = upload_button.value\n",
    "            with open(template, \"wb\") as fp:\n",
    "                fp.write(upload_button.value[uploaded_file][\"content\"])\n",
    "            print(f\"File uploaded succesfuly!\")\n",
    "        else:\n",
    "            print(\"Upload file first!\")\n",
    "\n",
    "upload_button.observe(on_file_upload, \"value\")"
   ]
  },
  {
   "cell_type": "code",
   "execution_count": 4,
   "metadata": {},
   "outputs": [],
   "source": [
    "process_button = widgets.Button(description=\"Create random proteome\",\n",
    "                                layout={\"width\": \"250px\"},\n",
    "                                button_style=\"info\",)\n",
    "\n",
    "@output_log.capture(clear_output=True)\n",
    "def on_click_process_button(b):\n",
    "    PROTEIN_NAME_LST, PROTEIN_LEN_LST, PROTEOME_SEQ = randp.read_template_proteome(template)\n",
    "    print(f\"Read {len(PROTEIN_NAME_LST)} proteins.\")\n",
    "    print(f\"Found {len(PROTEOME_SEQ)} amino acids.\")\n",
    "    print(\"\")\n",
    "    PROTEOME_AMINO_ACID_DISTRIBUTION = randp.get_amino_acid_proportion(PROTEOME_SEQ, \n",
    "                                                                       randp.AMINO_ACID_LST)\n",
    "    shuffled_proteome_sequence = randp.shuffle_sequence(PROTEOME_SEQ)\n",
    "    print(\"\\nBuilding random proteins...\")\n",
    "    random_protein_seq_lst = randp.create_random_proteins_from_proteome(\n",
    "                                                                shuffled_proteome_sequence,\n",
    "                                                                PROTEIN_LEN_LST)\n",
    "    fasta_filename = \"random_proteome.fasta\"\n",
    "    randp.write_fasta(random_protein_seq_lst, fasta_filename)\n",
    "    print(f\"{len(random_protein_seq_lst)} proteins created!\")\n",
    "    print(\"\\nComputing amino acid distribution probability...\")\n",
    "    tsv_filename = \"random_proteome.tsv\"\n",
    "    randp.write_distribution(random_protein_seq_lst, \n",
    "                             randp.AMINO_ACID_LST, \n",
    "                             tsv_filename, \n",
    "                             ref_distribution=PROTEOME_AMINO_ACID_DISTRIBUTION)\n",
    "    print(f\"Saved!\")\n",
    "    display(HTML(f\"<a download='{fasta_filename}' href='{fasta_filename}'>Click here to download random proteome</a>\"))\n",
    "    display(HTML(f\"<a download='{tsv_filename}' href='{tsv_filename}'>Click here to download random proteome amino acid distribution</a>\"))\n",
    "\n",
    "process_button.on_click(on_click_process_button)"
   ]
  },
  {
   "cell_type": "code",
   "execution_count": null,
   "metadata": {},
   "outputs": [],
   "source": []
  },
  {
   "cell_type": "code",
   "execution_count": 5,
   "metadata": {},
   "outputs": [
    {
     "data": {
      "application/vnd.jupyter.widget-view+json": {
       "model_id": "cf25f88527534986898fe4a079f93a6e",
       "version_major": 2,
       "version_minor": 0
      },
      "text/plain": [
       "HBox(children=(FileUpload(value={}, button_style='info', description='Upload'), Button(button_style='info', de…"
      ]
     },
     "metadata": {},
     "output_type": "display_data"
    },
    {
     "data": {
      "application/vnd.jupyter.widget-view+json": {
       "model_id": "f9b0e69eae454649911b08fe6b45e2cb",
       "version_major": 2,
       "version_minor": 0
      },
      "text/plain": [
       "Output(layout=Layout(border='1px solid #e5e8e8', padding='3px'))"
      ]
     },
     "metadata": {},
     "output_type": "display_data"
    }
   ],
   "source": [
    "display(widgets.HBox([upload_button, process_button]))\n",
    "display(output_log)"
   ]
  },
  {
   "cell_type": "code",
   "execution_count": null,
   "metadata": {},
   "outputs": [],
   "source": []
  }
 ],
 "metadata": {
  "kernelspec": {
   "display_name": "Python 3",
   "language": "python",
   "name": "python3"
  },
  "language_info": {
   "codemirror_mode": {
    "name": "ipython",
    "version": 3
   },
   "file_extension": ".py",
   "mimetype": "text/x-python",
   "name": "python",
   "nbconvert_exporter": "python",
   "pygments_lexer": "ipython3",
   "version": "3.8.3"
  }
 },
 "nbformat": 4,
 "nbformat_minor": 4
}
