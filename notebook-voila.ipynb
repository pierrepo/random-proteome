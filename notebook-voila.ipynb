{
 "cells": [
  {
   "cell_type": "code",
   "execution_count": 1,
   "metadata": {},
   "outputs": [],
   "source": [
    "import base64\n",
    "import sys\n",
    "\n",
    "import ipywidgets as widgets\n",
    "import matplotlib.pyplot as plt\n",
    "from IPython.core.display import HTML\n",
    "\n",
    "import random_proteome as randp\n",
    "AMINO_ACID_LST = randp.AMINO_ACID_LST"
   ]
  },
  {
   "cell_type": "markdown",
   "metadata": {},
   "source": [
    "# Random proteome generator 🎲\n",
    "\n",
    "This app generates a random proteome based on the proteome input as a template.\n",
    "\n",
    "The random and template proteomes share the following properties:\n",
    "\n",
    "- Same number of proteins.\n",
    "- Same protein size distribution.\n",
    "- Same amino acid distribution."
   ]
  },
  {
   "cell_type": "code",
   "execution_count": 2,
   "metadata": {},
   "outputs": [],
   "source": [
    "upload_button = widgets.FileUpload(\n",
    "    button_style=\"info\",\n",
    "    accept=\"\",\n",
    "    description=\"Upload template proteome\",\n",
    "    layout={\"width\": \"250px\"},\n",
    "    multiple=False  # True to accept multiple files upload else False\n",
    ")\n",
    "\n",
    "output_log = widgets.Output(layout={'border': '1px solid #e5e8e8', \n",
    "                                    'padding': '3px',\n",
    "                                    'width': '505px',\n",
    "                                    'color': '#515a5a'})\n",
    "\n",
    "with output_log:\n",
    "    print(\"🔼 Click on the button above to upload fasta file.\")"
   ]
  },
  {
   "cell_type": "code",
   "execution_count": 3,
   "metadata": {},
   "outputs": [],
   "source": [
    "template=\"template-proteome.fasta\"\n",
    "@output_log.capture(clear_output=True)\n",
    "def on_file_upload(change):\n",
    "    with output_log:\n",
    "        if upload_button.value:\n",
    "            [uploaded_file] = upload_button.value\n",
    "            with open(template, \"wb\") as fp:\n",
    "                fp.write(upload_button.value[uploaded_file][\"content\"])\n",
    "            print(\"File uploaded succesfuly!\")\n",
    "            print(\"Now click on the button 'Create random proteome' 🔼\")\n",
    "\n",
    "upload_button.observe(on_file_upload, \"value\")"
   ]
  },
  {
   "cell_type": "code",
   "execution_count": 4,
   "metadata": {},
   "outputs": [],
   "source": [
    "process_button = widgets.Button(description=\"Generate random proteome\",\n",
    "                                layout={\"width\": \"250px\"},\n",
    "                                button_style=\"info\",)\n",
    "\n",
    "@output_log.capture(clear_output=True)\n",
    "def on_click_process_button(b):\n",
    "    if not upload_button.value:\n",
    "        print(\"🤨 Upload file first!\")\n",
    "        return 1\n",
    "    PROTEIN_NAME_LST, PROTEIN_LEN_LST, PROTEOME_SEQ = randp.read_template_proteome(template)\n",
    "    print(f\"Read {len(PROTEIN_NAME_LST)} proteins.\")\n",
    "    print(f\"Found {len(PROTEOME_SEQ)} amino acids.\")\n",
    "    PROTEOME_AMINO_ACID_DISTRIBUTION = randp.get_amino_acid_proportion(PROTEOME_SEQ, \n",
    "                                                                       randp.AMINO_ACID_LST)\n",
    "    shuffled_proteome_sequence = randp.shuffle_sequence(PROTEOME_SEQ)\n",
    "    print(\"\\n🦠 Building random proteome...\")\n",
    "    random_protein_seq_lst = randp.create_random_proteins_from_proteome(\n",
    "                                                                shuffled_proteome_sequence,\n",
    "                                                                PROTEIN_LEN_LST)\n",
    "    fasta_filename = \"random_proteome.fasta\"\n",
    "    randp.write_fasta(random_protein_seq_lst, fasta_filename)\n",
    "    print(f\"{len(random_protein_seq_lst)} proteins created!\")\n",
    "    print(\"\\n📊 Computing amino acid distribution probability...\")\n",
    "    tsv_filename = \"random_proteome.tsv\"\n",
    "    randp.write_distribution(random_protein_seq_lst, \n",
    "                             randp.AMINO_ACID_LST, \n",
    "                             tsv_filename, \n",
    "                             ref_distribution=PROTEOME_AMINO_ACID_DISTRIBUTION)\n",
    "    print(f\"Saved!\\n\")\n",
    "\n",
    "    display(HTML(f\"<a download='{fasta_filename}' href='../files/{fasta_filename}'>\"\n",
    "                  \"Click here to download the random proteome (.fasta file)</a>\"))\n",
    "    display(HTML(f\"<a download='{tsv_filename}' href='../files/{tsv_filename}'>\"\n",
    "                  \"Click here to download amino acid distribution of the random proteome (.tsv file)</a>\"))\n",
    "\n",
    "    # For the record, example to download the file through\n",
    "    # a base64 string inside the HTML href tag.\n",
    "    #fasta_data = open(fasta_filename, \"r\").read().encode(\"ascii\")\n",
    "    #fasta_data_encoded = base64.b64encode(fasta_data)\n",
    "    #fasta_data_clean = str(fasta_data_encoded).replace(\"'\", \"\")[1:]\n",
    "    #display(HTML(f\"<a download='{fasta_filename}' href='data:text/plain;charset=utf-8;base64,{fasta_data_clean}'>Click here to download random proteome</a>\"))\n",
    "        \n",
    "process_button.on_click(on_click_process_button)"
   ]
  },
  {
   "cell_type": "code",
   "execution_count": 5,
   "metadata": {},
   "outputs": [
    {
     "data": {
      "application/vnd.jupyter.widget-view+json": {
       "model_id": "7a292864b08147e4bd5cc1719b4b7982",
       "version_major": 2,
       "version_minor": 0
      },
      "text/plain": [
       "HBox(children=(FileUpload(value={}, button_style='info', description='Upload template proteome', layout=Layout…"
      ]
     },
     "metadata": {},
     "output_type": "display_data"
    },
    {
     "data": {
      "application/vnd.jupyter.widget-view+json": {
       "model_id": "ea30f5ebbf154fa3a581a3cce8cea486",
       "version_major": 2,
       "version_minor": 0
      },
      "text/plain": [
       "Output(layout=Layout(border='1px solid #e5e8e8', padding='3px', width='505px'))"
      ]
     },
     "metadata": {},
     "output_type": "display_data"
    }
   ],
   "source": [
    "display(widgets.HBox([upload_button, process_button]))\n",
    "display(output_log)"
   ]
  },
  {
   "cell_type": "code",
   "execution_count": null,
   "metadata": {},
   "outputs": [],
   "source": []
  }
 ],
 "metadata": {
  "kernelspec": {
   "display_name": "Python 3",
   "language": "python",
   "name": "python3"
  },
  "language_info": {
   "codemirror_mode": {
    "name": "ipython",
    "version": 3
   },
   "file_extension": ".py",
   "mimetype": "text/x-python",
   "name": "python",
   "nbconvert_exporter": "python",
   "pygments_lexer": "ipython3",
   "version": "3.8.3"
  }
 },
 "nbformat": 4,
 "nbformat_minor": 4
}
